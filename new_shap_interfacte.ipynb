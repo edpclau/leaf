{
 "cells": [
  {
   "cell_type": "markdown",
   "metadata": {},
   "source": [
    "# Pipeline to workshop leaf with the new shap interface"
   ]
  },
  {
   "cell_type": "markdown",
   "metadata": {},
   "source": [
    "### Libraries"
   ]
  },
  {
   "cell_type": "code",
   "execution_count": 93,
   "metadata": {},
   "outputs": [
    {
     "data": {
      "text/plain": [
       "<module 'leaf' from '/Users/eddie/OneDrive - University of Pittsburgh/Research/LEAF/leaf.py'>"
      ]
     },
     "execution_count": 93,
     "metadata": {},
     "output_type": "execute_result"
    }
   ],
   "source": [
    "from sklearn.ensemble import RandomForestClassifier\n",
    "import sklearn\n",
    "import pandas as pd\n",
    "import numpy as np\n",
    "import shap\n",
    "import importlib\n",
    "\n",
    "import leaf\n",
    "importlib.reload(leaf)"
   ]
  },
  {
   "cell_type": "markdown",
   "metadata": {},
   "source": [
    "### Dataset"
   ]
  },
  {
   "cell_type": "code",
   "execution_count": 7,
   "metadata": {},
   "outputs": [
    {
     "name": "stdout",
     "output_type": "stream",
     "text": [
      "0.8008\n",
      "0.804\n"
     ]
    }
   ],
   "source": [
    "sim_data = '/Users/eddie/OneDrive - University of Pittsburgh/Research/Data Simulation and Analysis/Simulated Data/3_vars_corr_1HC_n10000.csv'\n",
    "data = pd.read_csv(sim_data)\n",
    "\n",
    "split = sklearn.model_selection.train_test_split(data.iloc[:,1:], shuffle=True)\n",
    "X = split[0].drop('Target', axis = 1)\n",
    "Y = split[0].iloc[:, -1]\n",
    "x = split[1].drop('Target', axis = 1)\n",
    "y = split[1].iloc[:, -1]\n",
    "\n",
    "print(Y.mean())\n",
    "print(y.mean())"
   ]
  },
  {
   "cell_type": "markdown",
   "metadata": {},
   "source": [
    "### Model"
   ]
  },
  {
   "cell_type": "code",
   "execution_count": 6,
   "metadata": {},
   "outputs": [],
   "source": [
    "RandomForest = RandomForestClassifier()"
   ]
  },
  {
   "cell_type": "markdown",
   "metadata": {},
   "source": [
    "### LEAF\n",
    "\n",
    "#### Explainer"
   ]
  },
  {
   "cell_type": "code",
   "execution_count": 59,
   "metadata": {},
   "outputs": [],
   "source": [
    "def explain(clf, X, x, explainer = shap.explainers.Permutation):\n",
    "    if explainer != shap.explainers.Tree:\n",
    "        # #Build Explanation\n",
    "        explanation = explainer(clf.predict, X)\n",
    "        shap_values = explanation(x)\n",
    "    else:\n",
    "        # #Build Explanation\n",
    "        explanation = explainer(clf, X)\n",
    "        shap_values = explanation(x, check_additivity = False)\n",
    "    #Get ranks\n",
    "    return shap_values"
   ]
  },
  {
   "cell_type": "code",
   "execution_count": 82,
   "metadata": {},
   "outputs": [],
   "source": [
    "explanation = explain(RandomForest.fit(X,Y), X, pd.DataFrame(x.iloc[1]).T, explainer=shap.explainers.Tree)"
   ]
  },
  {
   "cell_type": "code",
   "execution_count": 91,
   "metadata": {},
   "outputs": [
    {
     "data": {
      "text/plain": [
       "array([-0.2214    , -0.31159999, -0.28699999,  0.        ])"
      ]
     },
     "execution_count": 91,
     "metadata": {},
     "output_type": "execute_result"
    }
   ],
   "source": [
    "explanation.values[...,1][0]"
   ]
  },
  {
   "cell_type": "code",
   "execution_count": null,
   "metadata": {},
   "outputs": [],
   "source": []
  }
 ],
 "metadata": {
  "interpreter": {
   "hash": "8d4e42ab716de065dabed38619282a5a545b37a73470e3b37377cd94259c7c27"
  },
  "kernelspec": {
   "display_name": "Python 3.8.11 64-bit ('python_env': conda)",
   "language": "python",
   "name": "python3"
  },
  "language_info": {
   "codemirror_mode": {
    "name": "ipython",
    "version": 3
   },
   "file_extension": ".py",
   "mimetype": "text/x-python",
   "name": "python",
   "nbconvert_exporter": "python",
   "pygments_lexer": "ipython3",
   "version": "3.8.13"
  },
  "orig_nbformat": 4
 },
 "nbformat": 4,
 "nbformat_minor": 2
}
