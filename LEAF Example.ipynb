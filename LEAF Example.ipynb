{
 "cells": [
  {
   "cell_type": "markdown",
   "id": "crude-pocket",
   "metadata": {},
   "source": [
    "# LEAF with KernelShap, LinearShap, and TreeShap"
   ]
  },
  {
   "cell_type": "markdown",
   "id": "94f05ca2-7013-4342-9775-f221a4c31f88",
   "metadata": {},
   "source": [
    "## Libraries"
   ]
  },
  {
   "cell_type": "code",
   "execution_count": null,
   "id": "australian-resource",
   "metadata": {},
   "outputs": [],
   "source": [
    "## Models\n",
    "from sklearn.linear_model import LogisticRegression\n",
    "from sklearn.ensemble import RandomForestClassifier\n",
    "\n",
    "\n",
    "## Dataset management\n",
    "import numpy as np\n",
    "import pandas as pd\n",
    "from sklearn.model_selection import train_test_split\n",
    "\n",
    "\n",
    "#LEAF\n",
    "import leaf"
   ]
  },
  {
   "cell_type": "code",
   "execution_count": 48,
   "id": "b806720c-e6d7-404e-b337-15eddcbc558b",
   "metadata": {
    "tags": []
   },
   "outputs": [],
   "source": [
    "#Churn dataset\n",
    "url = 'https://github.com/EpistasisLab/pmlb/blob/master/datasets/churn/churn.tsv.gz?raw=true'\n",
    "churn = pd.read_csv(url, compression='gzip', \n",
    "                                 header=0, sep = '\\t', quotechar='\"')\n",
    "\n",
    "split = train_test_split(churn, shuffle=True)\n",
    "X_train = split[0].drop('target', axis = 1)\n",
    "y_train = split[0].iloc[:, -1]\n",
    "X_test = split[1].drop('target', axis = 1)\n",
    "y_test = split[1].iloc[:, -1]\n",
    "\n",
    "class_names = ['0', '1']\n",
    "\n",
    "#This data comes from:\n",
    "#Le, Trang T., William La Cava, Joseph D. Romano, John T. Gregg, Daniel J. Goldberg, Praneel Chakraborty, \n",
    "#Natasha L. Ray, Daniel Himmelstein, Weixuan Fu, and Jason H. Moore. \n",
    "#PMLB v1. 0: an open source dataset collection for benchmarking machine learning methods. arXiv preprint arXiv:2012.00058 (2020)\n"
   ]
  },
  {
   "cell_type": "markdown",
   "id": "addressed-purchase",
   "metadata": {},
   "source": [
    "## Random Forest:"
   ]
  },
  {
   "cell_type": "markdown",
   "id": "ce2f0172-c2d2-4791-968e-90bb4b28cbeb",
   "metadata": {},
   "source": [
    "### Training"
   ]
  },
  {
   "cell_type": "code",
   "execution_count": 49,
   "id": "39cb4b33-bb5e-4734-810a-fb17b349f8ce",
   "metadata": {},
   "outputs": [
    {
     "name": "stdout",
     "output_type": "stream",
     "text": [
      "  * RandomForestClassifier accuracy: 0.8317460317460317\n",
      "              precision    recall  f1-score   support\n",
      "\n",
      "           0       0.94      1.00      0.97       630\n",
      "           1       0.98      0.67      0.79       120\n",
      "\n",
      "    accuracy                           0.94       750\n",
      "   macro avg       0.96      0.83      0.88       750\n",
      "weighted avg       0.95      0.94      0.94       750\n",
      "\n"
     ]
    }
   ],
   "source": [
    "model = RandomForestClassifier()\n",
    "cls = leaf.train_model(X_train, y_train, model, verbose = True)"
   ]
  },
  {
   "cell_type": "markdown",
   "id": "1da9d3d2-ab9f-4388-b5bf-40dbf9fe0c16",
   "metadata": {
    "tags": []
   },
   "source": [
    "### Evaluating Explanation Method (TreeExplainer vs KernelExplainer)"
   ]
  },
  {
   "cell_type": "markdown",
   "id": "30ed9c91-221f-45a4-838e-c68f9b674223",
   "metadata": {
    "tags": []
   },
   "source": [
    "#### TreeExplainer"
   ]
  },
  {
   "cell_type": "code",
   "execution_count": 4,
   "id": "manual-folks",
   "metadata": {
    "tags": []
   },
   "outputs": [
    {
     "data": {
      "text/html": [
       "\n",
       "    <div>\n",
       "        <style>\n",
       "            /* Turns off some styling */\n",
       "            progress {\n",
       "                /* gets rid of default border in Firefox and Opera. */\n",
       "                border: none;\n",
       "                /* Needs to be in here for Safari polyfill so background images work as expected. */\n",
       "                background-size: auto;\n",
       "            }\n",
       "            .progress-bar-interrupted, .progress-bar-interrupted::-webkit-progress-bar {\n",
       "                background: #F44336;\n",
       "            }\n",
       "        </style>\n",
       "      <progress value='100' class='' max='100' style='width:300px; height:20px; vertical-align: middle;'></progress>\n",
       "      100.00% [100/100 03:02<00:00]\n",
       "    </div>\n",
       "    "
      ],
      "text/plain": [
       "<IPython.core.display.HTML object>"
      ]
     },
     "metadata": {},
     "output_type": "display_data"
    }
   ],
   "source": [
    "RF_tree = leaf.LEAF(cls, X_train, y_train, class_names, explanation_samples = len(X_train), explainer = 'TreeExplainer')\n",
    "tree_metrics = RF_tree.explain_dataset(num_reps = 10, n_samples = 100)"
   ]
  },
  {
   "cell_type": "markdown",
   "id": "31cbc179-1c67-4297-859a-3f9b2174f92b",
   "metadata": {},
   "source": [
    "#### KernelExplainer"
   ]
  },
  {
   "cell_type": "code",
   "execution_count": 5,
   "id": "6cbc16cc-0c3c-44ac-a931-a82dd9aba6d3",
   "metadata": {
    "tags": []
   },
   "outputs": [
    {
     "data": {
      "text/html": [
       "\n",
       "    <div>\n",
       "        <style>\n",
       "            /* Turns off some styling */\n",
       "            progress {\n",
       "                /* gets rid of default border in Firefox and Opera. */\n",
       "                border: none;\n",
       "                /* Needs to be in here for Safari polyfill so background images work as expected. */\n",
       "                background-size: auto;\n",
       "            }\n",
       "            .progress-bar-interrupted, .progress-bar-interrupted::-webkit-progress-bar {\n",
       "                background: #F44336;\n",
       "            }\n",
       "        </style>\n",
       "      <progress value='100' class='' max='100' style='width:300px; height:20px; vertical-align: middle;'></progress>\n",
       "      100.00% [100/100 06:58<00:00]\n",
       "    </div>\n",
       "    "
      ],
      "text/plain": [
       "<IPython.core.display.HTML object>"
      ]
     },
     "metadata": {},
     "output_type": "display_data"
    }
   ],
   "source": [
    "RF_kernel = leaf.LEAF(cls, X_train, y_train, class_names, explanation_samples = len(X_train), explainer = 'KernelExplainer')\n",
    "kernel_metrics = RF_kernel.explain_dataset(num_reps = 10, n_samples = 100)"
   ]
  },
  {
   "cell_type": "markdown",
   "id": "ce87fe6b-b376-4c3a-8a89-ef15b2828b77",
   "metadata": {},
   "source": [
    "#### Comparison"
   ]
  },
  {
   "cell_type": "code",
   "execution_count": 6,
   "id": "e526bc56-099c-4b15-bb8d-1464ebdc1698",
   "metadata": {},
   "outputs": [
    {
     "data": {
      "text/plain": [
       "<AxesSubplot:title={'center':'RF Kernel'}>"
      ]
     },
     "execution_count": 6,
     "metadata": {},
     "output_type": "execute_result"
    },
    {
     "data": {
      "image/png": "[encoded data removed]",
      "text/plain": [
       "<Figure size 432x288 with 1 Axes>"
      ]
     },
     "metadata": {
      "needs_background": "light"
     },
     "output_type": "display_data"
    },
    {
     "data": {
      "image/png": "[encoded data removed]",
      "text/plain": [
       "<Figure size 432x288 with 1 Axes>"
      ]
     },
     "metadata": {
      "needs_background": "light"
     },
     "output_type": "display_data"
    }
   ],
   "source": [
    "tree_metrics.plot(kind = 'box', title = 'RF Tree')\n",
    "kernel_metrics.plot(kind = 'box', title = 'RF Kernel')"
   ]
  },
  {
   "cell_type": "markdown",
   "id": "b03fef67-f0cb-4148-8e4e-ccce5799c225",
   "metadata": {},
   "source": [
    "## Logistic Regression"
   ]
  },
  {
   "cell_type": "markdown",
   "id": "be9e0e11-7095-4b5c-9b0f-284bb0be9bf6",
   "metadata": {},
   "source": [
    "### Training"
   ]
  },
  {
   "cell_type": "code",
   "execution_count": 9,
   "id": "5aec259e-db5b-41f3-a13e-a80fb5d2f6c3",
   "metadata": {},
   "outputs": [
    {
     "name": "stdout",
     "output_type": "stream",
     "text": [
      "  * LogisticRegression accuracy: 0.7895044284112976\n",
      "              precision    recall  f1-score   support\n",
      "\n",
      "           0       0.96      0.77      0.86       653\n",
      "           1       0.35      0.80      0.48        97\n",
      "\n",
      "    accuracy                           0.78       750\n",
      "   macro avg       0.66      0.79      0.67       750\n",
      "weighted avg       0.88      0.78      0.81       750\n",
      "\n"
     ]
    }
   ],
   "source": [
    "lin_model = LogisticRegression(max_iter = 10000)\n",
    "lincls = leaf.train_model(X_train, y_train, lin_model, verbose = True)"
   ]
  },
  {
   "cell_type": "markdown",
   "id": "748fc736-e2cc-4f24-a9cb-73ba6260e0f4",
   "metadata": {},
   "source": [
    "### Evaluating Explanation Method (LinearExplainer vs KernelExplainer)"
   ]
  },
  {
   "cell_type": "markdown",
   "id": "d5aca843-92b0-46c7-b07d-8536a5a8cee6",
   "metadata": {},
   "source": [
    "#### LinearExplainer"
   ]
  },
  {
   "cell_type": "code",
   "execution_count": 10,
   "id": "f363e08c-6f2e-4d5e-acbf-f70219d2846b",
   "metadata": {
    "tags": []
   },
   "outputs": [
    {
     "data": {
      "text/html": [
       "\n",
       "    <div>\n",
       "        <style>\n",
       "            /* Turns off some styling */\n",
       "            progress {\n",
       "                /* gets rid of default border in Firefox and Opera. */\n",
       "                border: none;\n",
       "                /* Needs to be in here for Safari polyfill so background images work as expected. */\n",
       "                background-size: auto;\n",
       "            }\n",
       "            .progress-bar-interrupted, .progress-bar-interrupted::-webkit-progress-bar {\n",
       "                background: #F44336;\n",
       "            }\n",
       "        </style>\n",
       "      <progress value='100' class='' max='100' style='width:300px; height:20px; vertical-align: middle;'></progress>\n",
       "      100.00% [100/100 01:21<00:00]\n",
       "    </div>\n",
       "    "
      ],
      "text/plain": [
       "<IPython.core.display.HTML object>"
      ]
     },
     "metadata": {},
     "output_type": "display_data"
    }
   ],
   "source": [
    "LR_linear = leaf.LEAF(lincls, X_train, y_train, class_names, explanation_samples = len(X_train), explainer = 'LinearExplainer')\n",
    "linear_metrics = LR_linear.explain_dataset(num_reps = 10, n_samples = 100)"
   ]
  },
  {
   "cell_type": "markdown",
   "id": "81db318f-3aa3-44b0-b4b0-827477bfff65",
   "metadata": {},
   "source": [
    "#### Kernel Explainer"
   ]
  },
  {
   "cell_type": "code",
   "execution_count": 11,
   "id": "f1c778e7-73da-42b8-bb42-2383c74a0c27",
   "metadata": {},
   "outputs": [
    {
     "data": {
      "text/html": [
       "\n",
       "    <div>\n",
       "        <style>\n",
       "            /* Turns off some styling */\n",
       "            progress {\n",
       "                /* gets rid of default border in Firefox and Opera. */\n",
       "                border: none;\n",
       "                /* Needs to be in here for Safari polyfill so background images work as expected. */\n",
       "                background-size: auto;\n",
       "            }\n",
       "            .progress-bar-interrupted, .progress-bar-interrupted::-webkit-progress-bar {\n",
       "                background: #F44336;\n",
       "            }\n",
       "        </style>\n",
       "      <progress value='100' class='' max='100' style='width:300px; height:20px; vertical-align: middle;'></progress>\n",
       "      100.00% [100/100 05:11<00:00]\n",
       "    </div>\n",
       "    "
      ],
      "text/plain": [
       "<IPython.core.display.HTML object>"
      ]
     },
     "metadata": {},
     "output_type": "display_data"
    }
   ],
   "source": [
    "LR_kernel = leaf.LEAF(lincls, X_train, y_train, class_names, explanation_samples = len(X_train), explainer = 'KernelExplainer')\n",
    "kernel_metrics = LR_kernel.explain_dataset(num_reps = 10, n_samples = 100)"
   ]
  },
  {
   "cell_type": "markdown",
   "id": "cb39442f-d0a7-4a47-a003-eb4867f2e1d5",
   "metadata": {},
   "source": [
    "#### Comparison"
   ]
  },
  {
   "cell_type": "code",
   "execution_count": 12,
   "id": "52d7bdc5-6c0e-4468-91eb-a40bab9e2418",
   "metadata": {},
   "outputs": [
    {
     "data": {
      "text/plain": [
       "<AxesSubplot:title={'center':'LR Kernel'}>"
      ]
     },
     "execution_count": 12,
     "metadata": {},
     "output_type": "execute_result"
    },
    {
     "data": {
      "image/png": "[encoded data removed]",
      "text/plain": [
       "<Figure size 432x288 with 1 Axes>"
      ]
     },
     "metadata": {
      "needs_background": "light"
     },
     "output_type": "display_data"
    },
    {
     "data": {
      "image/png": "[encoded data removed]",
      "text/plain": [
       "<Figure size 432x288 with 1 Axes>"
      ]
     },
     "metadata": {
      "needs_background": "light"
     },
     "output_type": "display_data"
    }
   ],
   "source": [
    "linear_metrics.plot(kind = 'box', title = 'LR Linear')\n",
    "kernel_metrics.plot(kind = 'box', title = 'LR Kernel')"
   ]
  }
 ],
 "metadata": {
  "kernelspec": {
   "display_name": "Python 3",
   "language": "python",
   "name": "python3"
  },
  "language_info": {
   "codemirror_mode": {
    "name": "ipython",
    "version": 3
   },
   "file_extension": ".py",
   "mimetype": "text/x-python",
   "name": "python",
   "nbconvert_exporter": "python",
   "pygments_lexer": "ipython3",
   "version": "3.8.11"
  },
  "latex_envs": {
   "LaTeX_envs_menu_present": true,
   "autoclose": false,
   "autocomplete": true,
   "bibliofile": "biblio.bib",
   "cite_by": "apalike",
   "current_citInitial": 1,
   "eqLabelWithNumbers": true,
   "eqNumInitial": 1,
   "hotkeys": {
    "equation": "Ctrl-E",
    "itemize": "Ctrl-I"
   },
   "labels_anchors": false,
   "latex_user_defs": false,
   "report_style_numbering": false,
   "user_envs_cfg": false
  },
  "toc": {
   "base_numbering": 1,
   "nav_menu": {},
   "number_sections": true,
   "sideBar": true,
   "skip_h1_title": false,
   "title_cell": "Table of Contents",
   "title_sidebar": "Contents",
   "toc_cell": false,
   "toc_position": {},
   "toc_section_display": true,
   "toc_window_display": false
  },
  "varInspector": {
   "cols": {
    "lenName": 16,
    "lenType": 16,
    "lenVar": 40
   },
   "kernels_config": {
    "python": {
     "delete_cmd_postfix": "",
     "delete_cmd_prefix": "del ",
     "library": "var_list.py",
     "varRefreshCmd": "print(var_dic_list())"
    },
    "r": {
     "delete_cmd_postfix": ") ",
     "delete_cmd_prefix": "rm(",
     "library": "var_list.r",
     "varRefreshCmd": "cat(var_dic_list()) "
    }
   },
   "types_to_exclude": [
    "module",
    "function",
    "builtin_function_or_method",
    "instance",
    "_Feature"
   ],
   "window_display": false
  }
 },
 "nbformat": 4,
 "nbformat_minor": 5
}
